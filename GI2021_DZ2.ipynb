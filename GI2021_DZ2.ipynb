{
  "nbformat": 4,
  "nbformat_minor": 0,
  "metadata": {
    "colab": {
      "name": "GI2021_DZ2.ipynb",
      "provenance": []
    },
    "kernelspec": {
      "name": "python3",
      "display_name": "Python 3"
    },
    "language_info": {
      "name": "python"
    }
  },
  "cells": [
    {
      "cell_type": "markdown",
      "metadata": {
        "id": "nDJzOx38enBK"
      },
      "source": [
        "# Computational genomics homework 2"
      ]
    },
    {
      "cell_type": "markdown",
      "metadata": {
        "id": "zJMPcr44zdrP"
      },
      "source": [
        "The assignment consists of loading DNA fragment reads from `merged-tumor.bam` and computing several simple read statistics. "
      ]
    },
    {
      "cell_type": "markdown",
      "metadata": {
        "id": "ZIs55YebZrQf"
      },
      "source": [
        "First, install pysam. It will help us read the .bam file and work with reads."
      ]
    },
    {
      "cell_type": "code",
      "metadata": {
        "colab": {
          "base_uri": "https://localhost:8080/"
        },
        "id": "Qps3YGF3efWJ",
        "outputId": "7211311d-b239-4b2e-f552-923d7aa5103c"
      },
      "source": [
        "!pip install pysam"
      ],
      "execution_count": 4,
      "outputs": [
        {
          "output_type": "stream",
          "text": [
            "Collecting pysam\n",
            "\u001b[?25l  Downloading https://files.pythonhosted.org/packages/20/85/335857b9888f6d9a13b03a8f21b0a6228b180c361631d9d70e7be3e22163/pysam-0.16.0.1-cp37-cp37m-manylinux1_x86_64.whl (9.9MB)\n",
            "\u001b[K     |████████████████████████████████| 9.9MB 8.3MB/s \n",
            "\u001b[?25hInstalling collected packages: pysam\n",
            "Successfully installed pysam-0.16.0.1\n"
          ],
          "name": "stdout"
        }
      ]
    },
    {
      "cell_type": "markdown",
      "metadata": {
        "id": "qvNVGsOSaHQW"
      },
      "source": [
        "Next, I loaded 'merged-tumor.bam' from my Google Drive."
      ]
    },
    {
      "cell_type": "code",
      "metadata": {
        "colab": {
          "base_uri": "https://localhost:8080/"
        },
        "id": "cWKsWPpKe_u3",
        "outputId": "bbc13561-ad1b-4214-c983-71de2d76a632"
      },
      "source": [
        "from google.colab import drive\n",
        "drive.mount('/content/drive')"
      ],
      "execution_count": 1,
      "outputs": [
        {
          "output_type": "stream",
          "text": [
            "Mounted at /content/drive\n"
          ],
          "name": "stdout"
        }
      ]
    },
    {
      "cell_type": "code",
      "metadata": {
        "colab": {
          "base_uri": "https://localhost:8080/"
        },
        "id": "XCcmER8Wf4XC",
        "outputId": "ae67f8a0-40f5-4801-e7a5-f18057fef610"
      },
      "source": [
        "!ls"
      ],
      "execution_count": 5,
      "outputs": [
        {
          "output_type": "stream",
          "text": [
            "merged-tumor.bam\n"
          ],
          "name": "stdout"
        }
      ]
    },
    {
      "cell_type": "code",
      "metadata": {
        "colab": {
          "base_uri": "https://localhost:8080/"
        },
        "id": "4xHUgKYqf79y",
        "outputId": "d552ba3b-2d8f-4778-9e51-c91eb81c7f1f"
      },
      "source": [
        "%cd drive/MyDrive/GI2021_DZ2_data/"
      ],
      "execution_count": 2,
      "outputs": [
        {
          "output_type": "stream",
          "text": [
            "/content/drive/MyDrive/GI2021_DZ2_data\n"
          ],
          "name": "stdout"
        }
      ]
    },
    {
      "cell_type": "markdown",
      "metadata": {
        "id": "E0ivue6TaiKE"
      },
      "source": [
        "Then, we go through all the reads and calculate statistics required in the assignment."
      ]
    },
    {
      "cell_type": "code",
      "metadata": {
        "id": "N5iTw5sNgUni"
      },
      "source": [
        "import pysam\n",
        "\n",
        "unmapped_reads_count = 0\n",
        "reads_count = 0\n",
        "mapping_quality_sum = 0\n",
        "zero_mapping_quality_count = 0\n",
        "\n",
        "for read in pysam.AlignmentFile('merged-tumor.bam'):\n",
        "    # count number of unmapped reads\n",
        "    unmapped_reads_count += (read.flag & 4) != 0\n",
        "\n",
        "    reads_count += 1\n",
        "\n",
        "    # sum mapping quality of all reads for later use in average calculation\n",
        "    mapping_quality_sum += read.mapping_quality\n",
        "\n",
        "    if read.mapping_quality == 0:\n",
        "        zero_mapping_quality_count += 1\n",
        "\n",
        "average_mapping_quality = mapping_quality_sum / reads_count\n",
        "average_mapping_quality_of_non_zero_quality_reads = mapping_quality_sum / (reads_count - zero_mapping_quality_count)"
      ],
      "execution_count": 6,
      "outputs": []
    },
    {
      "cell_type": "code",
      "metadata": {
        "colab": {
          "base_uri": "https://localhost:8080/"
        },
        "id": "-sOWV4zgaXuT",
        "outputId": "4fdcb0cf-7e92-41ae-c4c5-08d67b51562e"
      },
      "source": [
        "print(\"Number of unmapped reads is: {}\".format(unmapped_reads_count))\n",
        "print(\"Total number of reads is: {}\".format(reads_count))\n",
        "print(\"Number of reads with mapping quality zero is: {}\".format(zero_mapping_quality_count))\n",
        "print(\"Average mapping quality of all reads is: {0:.4f}\".format(average_mapping_quality))\n",
        "print(\"Average mapping quality of reads with non-zero mapping quality is: {0:.4f}\".format(\n",
        "    average_mapping_quality_of_non_zero_quality_reads\n",
        "))"
      ],
      "execution_count": 7,
      "outputs": [
        {
          "output_type": "stream",
          "text": [
            "Number of unmapped reads is: 17765\n",
            "Total number of reads is: 2921629\n",
            "Number of reads with mapping quality zero is: 126628\n",
            "Average mapping quality of all reads is: 55.9138\n",
            "Average mapping quality of reads with non-zero mapping quality is: 58.4470\n"
          ],
          "name": "stdout"
        }
      ]
    }
  ]
}